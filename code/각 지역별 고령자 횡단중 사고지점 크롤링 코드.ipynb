{
 "cells": [
  {
   "cell_type": "markdown",
   "id": "9c00036f-4040-470a-8a55-39ebdbad1a34",
   "metadata": {},
   "source": [
    "## 각 지역별 고령자 횡단중 사고지점 크롤링 코드"
   ]
  },
  {
   "cell_type": "code",
   "execution_count": 31,
   "id": "7c02188f-b4a2-448d-8741-01eb22539e7d",
   "metadata": {},
   "outputs": [],
   "source": [
    "from selenium import webdriver\n",
    "from selenium.webdriver.support.ui import Select # 콤보 박스 선택 가능 모듈"
   ]
  },
  {
   "cell_type": "code",
   "execution_count": 73,
   "id": "a1928961-6c43-4e14-88fe-bb8f124ffe10",
   "metadata": {},
   "outputs": [],
   "source": [
    "driver = webdriver.Chrome('chromedriver')\n",
    "driver.get('http://taas.koroad.or.kr/gis/mcm/mcl/initMap.do?menuId=GIS_GMP_STS_RSN#')"
   ]
  },
  {
   "cell_type": "code",
   "execution_count": 74,
   "id": "364eff45-a9ab-4f99-b906-24f92e9143ed",
   "metadata": {},
   "outputs": [],
   "source": [
    "# 년도 콤보 박스 2018년 선택\n",
    "Select(driver.find_element_by_xpath('//*[@id=\"ptsRafYearStart\"]')).select_by_visible_text(\"2018\")"
   ]
  },
  {
   "cell_type": "code",
   "execution_count": 75,
   "id": "bb29f02f-4cf3-4cb4-aacd-518cd81d1835",
   "metadata": {},
   "outputs": [],
   "source": [
    "# 시도 콤보 박스 시도 선택\n",
    "Select(driver.find_element_by_xpath('//*[@id=\"ptsRafSido\"]')).select_by_visible_text(\"경기도\")"
   ]
  },
  {
   "cell_type": "code",
   "execution_count": 76,
   "id": "1adde96b-f2d1-425b-84ca-e9d0f3f7504f",
   "metadata": {},
   "outputs": [],
   "source": [
    "# 시군구 콤보 박스 시군구 선택\n",
    "Select(driver.find_element_by_xpath('//*[@id=\"ptsRafSigungu\"]')).select_by_visible_text(\"이천시\")"
   ]
  },
  {
   "cell_type": "code",
   "execution_count": 77,
   "id": "3031c464-c0d1-42b1-9cd4-a68dc0e70aa4",
   "metadata": {},
   "outputs": [],
   "source": [
    "# 중상사고, 경상사고, 부상신고 선택\n",
    "driver.find_element_by_xpath('//*[@id=\"ptsRafCh1AccidentContent\"]/li[2]/input').click() # 중상사고\n",
    "driver.find_element_by_xpath('//*[@id=\"ptsRafCh1AccidentContent\"]/li[3]/input').click() # 경상사고\n",
    "driver.find_element_by_xpath('//*[@id=\"ptsRafCh1AccidentContent\"]/li[4]/input').click() # 부상신고"
   ]
  },
  {
   "cell_type": "code",
   "execution_count": 78,
   "id": "76143c1c-a2c4-44b3-93c2-476a9309c8f7",
   "metadata": {},
   "outputs": [],
   "source": [
    "# 사고유형 선택\n",
    "driver.find_element_by_xpath('//*[@id=\"ptsRaf-ACDNT_CODE\"]/a').click()\n",
    "\n",
    "driver.implicitly_wait(5)\n",
    "\n",
    "# 사고유형 중 \"횡단중\" 선택\n",
    "driver.find_element_by_xpath('//*[@id=\"ptsRafCh2AccidentType\"]/li[1]/ul/li[1]/span/input').click() # \"횡단중\" 선택"
   ]
  },
  {
   "cell_type": "code",
   "execution_count": 79,
   "id": "32c96379-6330-4014-9987-00e4dfe863ee",
   "metadata": {},
   "outputs": [],
   "source": [
    "# 빈 화면 클릭\n",
    "driver.find_element_by_xpath('//*[@id=\"ptsRafCh1AccidentContent\"]').click()"
   ]
  },
  {
   "cell_type": "code",
   "execution_count": 80,
   "id": "ffc46ef4-6d88-47d4-a305-e91adff30024",
   "metadata": {},
   "outputs": [],
   "source": [
    "# 검색 클릭\n",
    "\n",
    "driver.find_element_by_xpath('//*[@id=\"regionAccidentFind\"]/div[2]/p/a').click()"
   ]
  },
  {
   "cell_type": "code",
   "execution_count": 82,
   "id": "23f54c55-2518-4c98-9eff-88ba048449f7",
   "metadata": {},
   "outputs": [],
   "source": [
    "# \"목록보기\" 클릭\n",
    "driver.implicitly_wait(5)\n",
    "driver.find_element_by_xpath('//*[@id=\"regionAccidentFind\"]/div[3]/div[2]/p/a').click()"
   ]
  },
  {
   "cell_type": "code",
   "execution_count": 83,
   "id": "9ba79321-2488-4385-9129-c94546882301",
   "metadata": {},
   "outputs": [],
   "source": [
    "# pip install -U googlemaps"
   ]
  },
  {
   "cell_type": "code",
   "execution_count": null,
   "id": "b00c4437-98ea-4f2b-8a6e-6be0a6d37984",
   "metadata": {},
   "outputs": [],
   "source": [
    "# 각 지역의 사고지역 위경도 추출\n",
    "location_list = []\n",
    "location_latlong = []\n",
    "\n",
    "import googlemaps\n",
    "from datetime import datetime\n",
    "\n",
    "def getLoc(addr):    \n",
    "    gmaps = googlemaps.Client(key='kdsd1032')  \n",
    "    geocode_result = gmaps.geocode(addr)   \n",
    "    n_lat = geocode_result[0]['geometry']['location']['lat']\n",
    "    n_lng = geocode_result[0]['geometry']['location']['lng']\n",
    "    loc = {'lat':n_lat, 'lng':n_lng}\n",
    "    location_latlong.append(loc)\n",
    "    \n",
    "for i in range(1,1000):\n",
    "    location_name = driver.find_element_by_xpath('//*[@id=\"accidentInfoListView\"]/div[5]/div/div[18]/div[4]').text\n",
    "    location_list.append(location_name)\n",
    "    getLoc(location_name)"
   ]
  },
  {
   "cell_type": "code",
   "execution_count": null,
   "id": "efebcb5c-8f25-4875-a2ab-80a1b246c5b3",
   "metadata": {},
   "outputs": [],
   "source": []
  }
 ],
 "metadata": {
  "kernelspec": {
   "display_name": "Python 3",
   "language": "python",
   "name": "python3"
  },
  "language_info": {
   "codemirror_mode": {
    "name": "ipython",
    "version": 3
   },
   "file_extension": ".py",
   "mimetype": "text/x-python",
   "name": "python",
   "nbconvert_exporter": "python",
   "pygments_lexer": "ipython3",
   "version": "3.8.8"
  }
 },
 "nbformat": 4,
 "nbformat_minor": 5
}
