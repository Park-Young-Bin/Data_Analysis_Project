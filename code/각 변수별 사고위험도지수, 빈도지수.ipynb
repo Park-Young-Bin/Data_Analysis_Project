{
 "cells": [
  {
   "cell_type": "code",
   "execution_count": 1,
   "id": "24a09314-20c7-4dfd-9a07-72dacf6690cf",
   "metadata": {},
   "outputs": [],
   "source": [
    "import pandas as pd\n",
    "import numpy as np\n",
    "import math"
   ]
  },
  {
   "cell_type": "markdown",
   "id": "5a60208c-ebda-4724-b05b-4fac38e3eb8f",
   "metadata": {},
   "source": [
    "횡단보도연장(20) 개수: 42\n",
    "\n",
    "차로수 개수(6): 86 \n",
    "\n",
    "녹색신호시간(24 ~ 25) 개수: 104\n",
    "\n",
    "속도(1.0 ~ 1.2) 개수: 193\n",
    "\n",
    "횡단보도폭(8) 개수: 166\n",
    "\n",
    "사고월 개수: 63\n",
    "\n",
    "보도턱 낮춤 여부(1) : 321\n",
    "\n",
    "사고내용(중상): 198\n",
    "\n",
    "교통섬유무(없음, 0): 250\n",
    "\n",
    "평균기온: 78\n",
    "\n",
    "도로형태(교차로,3): "
   ]
  },
  {
   "cell_type": "code",
   "execution_count": 2,
   "id": "c30356c1-ed11-4414-a3e0-7960a2512ece",
   "metadata": {},
   "outputs": [],
   "source": [
    "df = pd.read_excel('C:/Users/user/Desktop/project_data/전처리_9개횡단보도_신호등(숫자형).xlsx')"
   ]
  },
  {
   "cell_type": "markdown",
   "id": "8f480068-00ee-4d2c-8b4b-2536e5f60634",
   "metadata": {},
   "source": [
    "## 1. 횡단보도연장과 차로수의 기초 통계(사고위험도 지수, 빈도지수)"
   ]
  },
  {
   "cell_type": "code",
   "execution_count": 3,
   "id": "26329251-bac0-449b-8a9f-06c2f65841bf",
   "metadata": {
    "tags": []
   },
   "outputs": [
    {
     "data": {
      "text/plain": [
       "42"
      ]
     },
     "execution_count": 3,
     "metadata": {},
     "output_type": "execute_result"
    }
   ],
   "source": [
    "df_횡단보도연장 = df[(df['횡단보도연장'] == 20)][['횡단보도연장', 'id']]\n",
    "len(df_횡단보도연장) # 전체 중 횡단보도연장(20)"
   ]
  },
  {
   "cell_type": "code",
   "execution_count": 4,
   "id": "66188ed6-92eb-4557-bbcf-915bde9a27b7",
   "metadata": {
    "tags": []
   },
   "outputs": [
    {
     "data": {
      "text/plain": [
       "86"
      ]
     },
     "execution_count": 4,
     "metadata": {},
     "output_type": "execute_result"
    }
   ],
   "source": [
    "df_차로수 = df[(df['차로수'] == 6)][['차로수', 'id']]\n",
    "len(df_차로수) # 전체 중 차로수(6)"
   ]
  },
  {
   "cell_type": "code",
   "execution_count": 5,
   "id": "f68da947-85ca-41f5-9758-ad47e6ae04d2",
   "metadata": {},
   "outputs": [
    {
     "data": {
      "text/plain": [
       "26"
      ]
     },
     "execution_count": 5,
     "metadata": {},
     "output_type": "execute_result"
    }
   ],
   "source": [
    "pd.merge(df_횡단보도연장, df_차로수, how = 'inner', on = 'id')\n",
    "len(pd.merge(df_횡단보도연장, df_차로수, how = 'inner', on = 'id')) # 교집합"
   ]
  },
  {
   "cell_type": "code",
   "execution_count": 6,
   "id": "924193fb-b3ff-40fa-abd3-58127c569af6",
   "metadata": {},
   "outputs": [
    {
     "data": {
      "text/plain": [
       "102"
      ]
     },
     "execution_count": 6,
     "metadata": {},
     "output_type": "execute_result"
    }
   ],
   "source": [
    "pd.merge(df_횡단보도연장, df_차로수, how = 'outer', on = 'id')\n",
    "len(pd.merge(df_횡단보도연장, df_차로수, how = 'outer', on = 'id')) # 합집합"
   ]
  },
  {
   "cell_type": "code",
   "execution_count": 7,
   "id": "316d0bc6-adbd-4daf-babb-017ff06431a9",
   "metadata": {},
   "outputs": [
    {
     "data": {
      "text/plain": [
       "25.49019607843137"
      ]
     },
     "execution_count": 7,
     "metadata": {},
     "output_type": "execute_result"
    }
   ],
   "source": [
    "# 사고위험지수\n",
    "26 / 102 * 100"
   ]
  },
  {
   "cell_type": "code",
   "execution_count": 8,
   "id": "ad4dfa70-07e0-47e4-b2bf-7f1e99d3333c",
   "metadata": {},
   "outputs": [
    {
     "data": {
      "text/plain": [
       "2.9997757642701126"
      ]
     },
     "execution_count": 8,
     "metadata": {},
     "output_type": "execute_result"
    }
   ],
   "source": [
    "# 빈도지수\n",
    "v = (42 * 86) / math.pow(len(df), 2) * 100\n",
    "v"
   ]
  },
  {
   "cell_type": "markdown",
   "id": "f43e1927-4271-4ef7-8e84-14634e341dbb",
   "metadata": {},
   "source": [
    "## 2. 속도와 차로수의 기초 통계(사고위험도 지수, 빈도지수)"
   ]
  },
  {
   "cell_type": "code",
   "execution_count": 9,
   "id": "ed4e9a12-f78f-4bec-a63b-cb9374bc5557",
   "metadata": {},
   "outputs": [
    {
     "data": {
      "text/plain": [
       "193"
      ]
     },
     "execution_count": 9,
     "metadata": {},
     "output_type": "execute_result"
    }
   ],
   "source": [
    "df_속도 = df[(df['속도'] >= 1.0) & (df['속도'] <= 1.2)][['속도', 'id']]\n",
    "len(df_속도) # 전체 중 속도(1.0 ~ 1.2)"
   ]
  },
  {
   "cell_type": "code",
   "execution_count": 10,
   "id": "9dbece40-fa8e-49be-aed0-2c42a5e34b97",
   "metadata": {},
   "outputs": [
    {
     "data": {
      "text/plain": [
       "78"
      ]
     },
     "execution_count": 10,
     "metadata": {},
     "output_type": "execute_result"
    }
   ],
   "source": [
    "pd.merge(df_속도, df_차로수, how = 'inner', on = 'id')\n",
    "len(pd.merge(df_속도, df_차로수, how = 'inner', on = 'id')) # 교집합"
   ]
  },
  {
   "cell_type": "code",
   "execution_count": 11,
   "id": "369bf0bc-912f-4388-a22a-787cdac4d5a0",
   "metadata": {},
   "outputs": [
    {
     "data": {
      "text/plain": [
       "201"
      ]
     },
     "execution_count": 11,
     "metadata": {},
     "output_type": "execute_result"
    }
   ],
   "source": [
    "pd.merge(df_속도, df_차로수, how = 'outer', on = 'id')\n",
    "len(pd.merge(df_속도, df_차로수, how = 'outer', on = 'id')) #교집합"
   ]
  },
  {
   "cell_type": "code",
   "execution_count": 12,
   "id": "b530a9a4-0566-4b19-b209-bbedc5fb4673",
   "metadata": {},
   "outputs": [
    {
     "data": {
      "text/plain": [
       "38.80597014925373"
      ]
     },
     "execution_count": 12,
     "metadata": {},
     "output_type": "execute_result"
    }
   ],
   "source": [
    "# 사고위험도 지수\n",
    "78 / 201 * 100"
   ]
  },
  {
   "cell_type": "code",
   "execution_count": 13,
   "id": "af2b35aa-2398-47a2-8548-7e5e170f81ce",
   "metadata": {},
   "outputs": [
    {
     "data": {
      "text/plain": [
       "13.784683869145994"
      ]
     },
     "execution_count": 13,
     "metadata": {},
     "output_type": "execute_result"
    }
   ],
   "source": [
    "# 빈도지수\n",
    "v = (193 * 86) / math.pow(len(df), 2) * 100\n",
    "v"
   ]
  },
  {
   "cell_type": "markdown",
   "id": "78acf52a-4942-4497-81d1-d690f0007a2f",
   "metadata": {},
   "source": [
    "## 3. 속도와 횡단보도연장 기초 통계(사고위험도 지수, 빈도지수)"
   ]
  },
  {
   "cell_type": "code",
   "execution_count": 14,
   "id": "0c9ca61d-a857-4900-8c80-121848be830d",
   "metadata": {},
   "outputs": [
    {
     "data": {
      "text/plain": [
       "36"
      ]
     },
     "execution_count": 14,
     "metadata": {},
     "output_type": "execute_result"
    }
   ],
   "source": [
    "pd.merge(df_속도, df_횡단보도연장, how = 'inner', on = 'id')\n",
    "len(pd.merge(df_속도, df_횡단보도연장, how = 'inner', on = 'id')) # 교집합"
   ]
  },
  {
   "cell_type": "code",
   "execution_count": 15,
   "id": "2d8ffb66-200f-4a95-9d0f-5b1714aff79b",
   "metadata": {},
   "outputs": [
    {
     "data": {
      "text/plain": [
       "199"
      ]
     },
     "execution_count": 15,
     "metadata": {},
     "output_type": "execute_result"
    }
   ],
   "source": [
    "pd.merge(df_속도, df_횡단보도연장, how = 'outer', on = 'id')\n",
    "len(pd.merge(df_속도, df_횡단보도연장, how = 'outer', on = 'id')) #합집합"
   ]
  },
  {
   "cell_type": "code",
   "execution_count": 16,
   "id": "f6b690b1-7cbf-4d87-90ad-bc0c53ec4b74",
   "metadata": {},
   "outputs": [
    {
     "data": {
      "text/plain": [
       "18.090452261306535"
      ]
     },
     "execution_count": 16,
     "metadata": {},
     "output_type": "execute_result"
    }
   ],
   "source": [
    "# 사고위험도 지수\n",
    "36 / 199 * 100"
   ]
  },
  {
   "cell_type": "code",
   "execution_count": 17,
   "id": "e8e4f717-ff4f-4e1e-bf4b-36a7b608f2d7",
   "metadata": {},
   "outputs": [
    {
     "data": {
      "text/plain": [
       "6.732054912838742"
      ]
     },
     "execution_count": 17,
     "metadata": {},
     "output_type": "execute_result"
    }
   ],
   "source": [
    "# 빈도지수\n",
    "v = (193 * 42) / math.pow(len(df), 2) * 100\n",
    "v"
   ]
  },
  {
   "cell_type": "markdown",
   "id": "6da1c904-62ce-4435-aedb-521d1215694e",
   "metadata": {},
   "source": [
    "## 4. 횡단보도폭과 차로수 기초 통계(사고위험도 지수, 빈도지수)"
   ]
  },
  {
   "cell_type": "code",
   "execution_count": 18,
   "id": "35302d6e-5033-43d9-a479-72e7d6a1368c",
   "metadata": {},
   "outputs": [
    {
     "data": {
      "text/plain": [
       "166"
      ]
     },
     "execution_count": 18,
     "metadata": {},
     "output_type": "execute_result"
    }
   ],
   "source": [
    "df_횡단보도폭 = df[(df['횡단보도폭'] == 8)][['횡단보도폭', 'id']]\n",
    "len(df_횡단보도폭) # 전체 중 횡단보도폭(8)"
   ]
  },
  {
   "cell_type": "code",
   "execution_count": 19,
   "id": "e814e70c-0da7-452d-a409-23fd5e576d0c",
   "metadata": {},
   "outputs": [
    {
     "data": {
      "text/plain": [
       "78"
      ]
     },
     "execution_count": 19,
     "metadata": {},
     "output_type": "execute_result"
    }
   ],
   "source": [
    "pd.merge(df_횡단보도폭, df_차로수, how = 'inner', on = 'id')\n",
    "len(pd.merge(df_속도, df_차로수, how = 'inner', on = 'id')) # 교집합"
   ]
  },
  {
   "cell_type": "code",
   "execution_count": 20,
   "id": "bfe85189-deb4-4539-addd-4b2d1deaecd5",
   "metadata": {},
   "outputs": [
    {
     "data": {
      "text/plain": [
       "207"
      ]
     },
     "execution_count": 20,
     "metadata": {},
     "output_type": "execute_result"
    }
   ],
   "source": [
    "pd.merge(df_횡단보도폭, df_차로수, how = 'outer', on = 'id')\n",
    "len(pd.merge(df_횡단보도폭, df_차로수, how = 'outer', on = 'id')) #합집합"
   ]
  },
  {
   "cell_type": "code",
   "execution_count": 21,
   "id": "b87861b2-4bf5-4dc1-b7d6-b76ec8129c32",
   "metadata": {},
   "outputs": [
    {
     "data": {
      "text/plain": [
       "37.68115942028986"
      ]
     },
     "execution_count": 21,
     "metadata": {},
     "output_type": "execute_result"
    }
   ],
   "source": [
    "# 사고위험도 지수\n",
    "78 / 207 * 100"
   ]
  },
  {
   "cell_type": "code",
   "execution_count": 22,
   "id": "c25d774f-c568-4336-a16b-5ea4d2e5ec75",
   "metadata": {},
   "outputs": [
    {
     "data": {
      "text/plain": [
       "11.856256592115209"
      ]
     },
     "execution_count": 22,
     "metadata": {},
     "output_type": "execute_result"
    }
   ],
   "source": [
    "# 빈도지수\n",
    "v = (166 * 86) / math.pow(len(df), 2) * 100\n",
    "v"
   ]
  },
  {
   "cell_type": "markdown",
   "id": "f28b547a-7cc2-4472-8968-bdbe63d80cbe",
   "metadata": {},
   "source": [
    "## 5. 녹색신호시간과 횡단보도연장의 기초 통계(사고위험도 지수, 빈도지수)"
   ]
  },
  {
   "cell_type": "code",
   "execution_count": 23,
   "id": "fc8a2a1a-a714-44e2-93dc-770c25174d03",
   "metadata": {},
   "outputs": [
    {
     "data": {
      "text/plain": [
       "104"
      ]
     },
     "execution_count": 23,
     "metadata": {},
     "output_type": "execute_result"
    }
   ],
   "source": [
    "df_녹색신호시간 = df[(df['녹색신호시간'] >=24) & (df['녹색신호시간'] <= 25)][['녹색신호시간', 'id']]\n",
    "len(df_녹색신호시간) # 전체 중 녹색신호시간(25)"
   ]
  },
  {
   "cell_type": "code",
   "execution_count": 24,
   "id": "7de96f24-820c-4a3b-ab3d-90a6655a0729",
   "metadata": {},
   "outputs": [
    {
     "data": {
      "text/plain": [
       "33"
      ]
     },
     "execution_count": 24,
     "metadata": {},
     "output_type": "execute_result"
    }
   ],
   "source": [
    "pd.merge(df_녹색신호시간, df_횡단보도연장, how = 'inner', on = 'id')\n",
    "len(pd.merge(df_녹색신호시간, df_횡단보도연장, how = 'inner', on = 'id')) #교집합"
   ]
  },
  {
   "cell_type": "code",
   "execution_count": 25,
   "id": "31b999f6-39d8-4366-97ad-1269f943690b",
   "metadata": {},
   "outputs": [
    {
     "data": {
      "text/plain": [
       "113"
      ]
     },
     "execution_count": 25,
     "metadata": {},
     "output_type": "execute_result"
    }
   ],
   "source": [
    "pd.merge(df_녹색신호시간, df_횡단보도연장, how = 'outer', on = 'id')\n",
    "len(pd.merge(df_녹색신호시간, df_횡단보도연장, how = 'outer', on = 'id')) # 합집합"
   ]
  },
  {
   "cell_type": "code",
   "execution_count": 26,
   "id": "a2bcd05f-18cd-4413-9cc7-9b29c301cba9",
   "metadata": {},
   "outputs": [
    {
     "data": {
      "text/plain": [
       "29.20353982300885"
      ]
     },
     "execution_count": 26,
     "metadata": {},
     "output_type": "execute_result"
    }
   ],
   "source": [
    "# 사고위험도 지수\n",
    "33 / 113 * 100"
   ]
  },
  {
   "cell_type": "code",
   "execution_count": 27,
   "id": "7453c8aa-6ea6-42ce-a40c-4f920eb84991",
   "metadata": {},
   "outputs": [
    {
     "data": {
      "text/plain": [
       "3.6276358079545554"
      ]
     },
     "execution_count": 27,
     "metadata": {},
     "output_type": "execute_result"
    }
   ],
   "source": [
    "# 빈도지수\n",
    "v = (104 * 42) / math.pow(len(df), 2) * 100\n",
    "v"
   ]
  },
  {
   "cell_type": "markdown",
   "id": "586fde2a-dffb-406d-9011-caf50fe846d3",
   "metadata": {},
   "source": [
    "---"
   ]
  },
  {
   "cell_type": "markdown",
   "id": "252430a4-346e-4219-bd0d-b8939cd5aa48",
   "metadata": {},
   "source": [
    "## 6. 보도턱낮춤여부와 중상의 기초 통계(사고위험도 지수, 빈도지수)"
   ]
  },
  {
   "cell_type": "code",
   "execution_count": 28,
   "id": "8773a66c-8a45-40b2-8f32-d583e4026f8d",
   "metadata": {},
   "outputs": [
    {
     "data": {
      "text/plain": [
       "321"
      ]
     },
     "execution_count": 28,
     "metadata": {},
     "output_type": "execute_result"
    }
   ],
   "source": [
    "df_보도턱낮춤여부 = df[(df['보도턱낮춤여부'] == 1)][['보도턱낮춤여부', 'id']]\n",
    "len(df_보도턱낮춤여부) # 전체 중 보도턱낮춤여부(1)"
   ]
  },
  {
   "cell_type": "code",
   "execution_count": 29,
   "id": "14bc5720-fc85-45e4-bebd-ca173be5c9ec",
   "metadata": {
    "tags": []
   },
   "outputs": [
    {
     "data": {
      "text/plain": [
       "198"
      ]
     },
     "execution_count": 29,
     "metadata": {},
     "output_type": "execute_result"
    }
   ],
   "source": [
    "df_사고내용 = df[(df['사고내용'] == 3)][['사고내용', 'id']]\n",
    "len(df_사고내용) # 전체 중 사고내용(중상)"
   ]
  },
  {
   "cell_type": "code",
   "execution_count": 30,
   "id": "61c27622-755b-441b-b8a1-0ca0db53f0b5",
   "metadata": {},
   "outputs": [
    {
     "data": {
      "text/plain": [
       "186"
      ]
     },
     "execution_count": 30,
     "metadata": {},
     "output_type": "execute_result"
    }
   ],
   "source": [
    "pd.merge(df_보도턱낮춤여부, df_사고내용, how = 'inner', on = 'id')\n",
    "len(pd.merge(df_보도턱낮춤여부, df_사고내용, how = 'inner', on = 'id')) #교집합"
   ]
  },
  {
   "cell_type": "code",
   "execution_count": 31,
   "id": "93c5a97e-0aa3-437d-83ad-df5c5e72aa53",
   "metadata": {},
   "outputs": [
    {
     "data": {
      "text/plain": [
       "333"
      ]
     },
     "execution_count": 31,
     "metadata": {},
     "output_type": "execute_result"
    }
   ],
   "source": [
    "pd.merge(df_보도턱낮춤여부, df_사고내용, how = 'outer', on = 'id')\n",
    "len(pd.merge(df_보도턱낮춤여부, df_사고내용, how = 'outer', on = 'id')) # 합집합"
   ]
  },
  {
   "cell_type": "code",
   "execution_count": 32,
   "id": "beedc1f8-ede6-4916-815a-670ca752f4d9",
   "metadata": {},
   "outputs": [
    {
     "data": {
      "text/plain": [
       "55.85585585585585"
      ]
     },
     "execution_count": 32,
     "metadata": {},
     "output_type": "execute_result"
    }
   ],
   "source": [
    "# 사고위험도 지수\n",
    "186 / 333 * 100"
   ]
  },
  {
   "cell_type": "code",
   "execution_count": 33,
   "id": "fb19ece3-46ee-4b3b-bab4-40e1ae99ca85",
   "metadata": {},
   "outputs": [
    {
     "data": {
      "text/plain": [
       "0.527850908154706"
      ]
     },
     "execution_count": 33,
     "metadata": {},
     "output_type": "execute_result"
    }
   ],
   "source": [
    "# 빈도지수\n",
    "v = (321 * 198) / math.pow(len(df), 2)\n",
    "v"
   ]
  },
  {
   "cell_type": "markdown",
   "id": "9d7d28c4-d7ed-42e6-9753-679aec79aa10",
   "metadata": {},
   "source": [
    "## 7. 교통섬유무와 중상의 기초 통계(사고위험도 지수, 빈도지수)"
   ]
  },
  {
   "cell_type": "code",
   "execution_count": 34,
   "id": "e144f2e8-4144-48eb-9f29-8b03f7e0cfdc",
   "metadata": {},
   "outputs": [
    {
     "data": {
      "text/plain": [
       "250"
      ]
     },
     "execution_count": 34,
     "metadata": {},
     "output_type": "execute_result"
    }
   ],
   "source": [
    "df_교통섬유무 = df[(df['교통섬유무'] == 0)][['교통섬유무', 'id']]\n",
    "len(df_교통섬유무) # 전체 중 교통섬유무(0)"
   ]
  },
  {
   "cell_type": "code",
   "execution_count": 35,
   "id": "bf932faa-b9c3-4338-9469-1c37da647e61",
   "metadata": {},
   "outputs": [
    {
     "data": {
      "text/plain": [
       "147"
      ]
     },
     "execution_count": 35,
     "metadata": {},
     "output_type": "execute_result"
    }
   ],
   "source": [
    "pd.merge(df_교통섬유무, df_사고내용, how = 'inner', on = 'id')\n",
    "len(pd.merge(df_교통섬유무, df_사고내용, how = 'inner', on = 'id')) #교집합"
   ]
  },
  {
   "cell_type": "code",
   "execution_count": 36,
   "id": "e72d906f-0aba-4785-9443-72fd526dab1f",
   "metadata": {},
   "outputs": [
    {
     "data": {
      "text/plain": [
       "301"
      ]
     },
     "execution_count": 36,
     "metadata": {},
     "output_type": "execute_result"
    }
   ],
   "source": [
    "pd.merge(df_교통섬유무, df_사고내용, how = 'outer', on = 'id')\n",
    "len(pd.merge(df_교통섬유무, df_사고내용, how = 'outer', on = 'id')) # 합집합"
   ]
  },
  {
   "cell_type": "code",
   "execution_count": 37,
   "id": "0c2d5c01-0fc8-401d-9a32-209e36ea0b74",
   "metadata": {},
   "outputs": [
    {
     "data": {
      "text/plain": [
       "48.837209302325576"
      ]
     },
     "execution_count": 37,
     "metadata": {},
     "output_type": "execute_result"
    }
   ],
   "source": [
    "# 사고위험도 지수\n",
    "147/ 301 * 100"
   ]
  },
  {
   "cell_type": "code",
   "execution_count": 38,
   "id": "ac26b3c6-9b53-40a9-b2ab-e3a33ed442f8",
   "metadata": {},
   "outputs": [
    {
     "data": {
      "text/plain": [
       "0.4110988381267181"
      ]
     },
     "execution_count": 38,
     "metadata": {},
     "output_type": "execute_result"
    }
   ],
   "source": [
    "# 빈도지수\n",
    "v = (250 * 198) / math.pow(len(df), 2)\n",
    "v"
   ]
  },
  {
   "cell_type": "markdown",
   "id": "fa56fc35-ab17-40be-845c-57f98254cd61",
   "metadata": {},
   "source": [
    "## 8. 속도와 중상의 기초 통계(사고위험도 지수, 빈도지수)"
   ]
  },
  {
   "cell_type": "code",
   "execution_count": 39,
   "id": "8edc4dd7-9286-4122-b696-db6a3a5fbd21",
   "metadata": {},
   "outputs": [
    {
     "data": {
      "text/plain": [
       "115"
      ]
     },
     "execution_count": 39,
     "metadata": {},
     "output_type": "execute_result"
    }
   ],
   "source": [
    "pd.merge(df_속도, df_사고내용, how = 'inner', on = 'id')\n",
    "len(pd.merge(df_속도, df_사고내용, how = 'inner', on = 'id')) #교집합"
   ]
  },
  {
   "cell_type": "code",
   "execution_count": 40,
   "id": "fbb88806-d95d-42f2-bee3-81b01b8167d6",
   "metadata": {},
   "outputs": [
    {
     "data": {
      "text/plain": [
       "276"
      ]
     },
     "execution_count": 40,
     "metadata": {},
     "output_type": "execute_result"
    }
   ],
   "source": [
    "pd.merge(df_속도, df_사고내용, how = 'outer', on = 'id')\n",
    "len(pd.merge(df_속도, df_사고내용, how = 'outer', on = 'id')) #교집합"
   ]
  },
  {
   "cell_type": "code",
   "execution_count": 41,
   "id": "9b917104-b60d-4af7-8b8b-c2bd62324cfa",
   "metadata": {},
   "outputs": [
    {
     "data": {
      "text/plain": [
       "41.66666666666667"
      ]
     },
     "execution_count": 41,
     "metadata": {},
     "output_type": "execute_result"
    }
   ],
   "source": [
    "# 사고위험도 지수\n",
    "115 / 276 * 100"
   ]
  },
  {
   "cell_type": "code",
   "execution_count": 42,
   "id": "3d670a31-4d3d-4984-83f4-079410552360",
   "metadata": {},
   "outputs": [
    {
     "data": {
      "text/plain": [
       "0.31736830303382635"
      ]
     },
     "execution_count": 42,
     "metadata": {},
     "output_type": "execute_result"
    }
   ],
   "source": [
    "# 빈도지수\n",
    "v = (193 * 198) / math.pow(len(df), 2)\n",
    "v"
   ]
  },
  {
   "cell_type": "markdown",
   "id": "9c7c06be-ba30-4095-b066-a09015fdbc4b",
   "metadata": {},
   "source": [
    "## 9. 평균기온과 중상의 기초 통계(사고위험도 지수, 빈도지수)"
   ]
  },
  {
   "cell_type": "code",
   "execution_count": 43,
   "id": "9cf43429-5dca-41bd-a68a-ceb1939b7057",
   "metadata": {},
   "outputs": [
    {
     "data": {
      "text/plain": [
       "78"
      ]
     },
     "execution_count": 43,
     "metadata": {},
     "output_type": "execute_result"
    }
   ],
   "source": [
    "df_평균온도 = df[(df['평균온도'] >= 21.46) & (df['평균온도'] <= 27.31)][['평균온도', 'id']]\n",
    "len(df_평균온도) # 전체 중 평균온도"
   ]
  },
  {
   "cell_type": "code",
   "execution_count": 44,
   "id": "d4136bb1-49f3-4e32-8996-aa76c6dea9e9",
   "metadata": {},
   "outputs": [
    {
     "data": {
      "text/plain": [
       "49"
      ]
     },
     "execution_count": 44,
     "metadata": {},
     "output_type": "execute_result"
    }
   ],
   "source": [
    "pd.merge(df_평균온도, df_사고내용, how = 'inner', on = 'id')\n",
    "len(pd.merge(df_평균온도, df_사고내용, how = 'inner', on = 'id')) #교집합"
   ]
  },
  {
   "cell_type": "code",
   "execution_count": 45,
   "id": "f3c68cf0-4aff-4049-8d1b-93d65e593e31",
   "metadata": {},
   "outputs": [
    {
     "data": {
      "text/plain": [
       "227"
      ]
     },
     "execution_count": 45,
     "metadata": {},
     "output_type": "execute_result"
    }
   ],
   "source": [
    "pd.merge(df_평균온도, df_사고내용, how = 'outer', on = 'id')\n",
    "len(pd.merge(df_평균온도, df_사고내용, how = 'outer', on = 'id')) #교집합"
   ]
  },
  {
   "cell_type": "code",
   "execution_count": 46,
   "id": "23650b1c-1a2a-46d1-a7d9-2734f4ed74e1",
   "metadata": {},
   "outputs": [
    {
     "data": {
      "text/plain": [
       "21.58590308370044"
      ]
     },
     "execution_count": 46,
     "metadata": {},
     "output_type": "execute_result"
    }
   ],
   "source": [
    "# 사고위험도 지수\n",
    "49 / 227 * 100"
   ]
  },
  {
   "cell_type": "code",
   "execution_count": 47,
   "id": "f48d32d9-444a-420a-bcd2-55e2344e2897",
   "metadata": {},
   "outputs": [
    {
     "data": {
      "text/plain": [
       "0.12826283749553605"
      ]
     },
     "execution_count": 47,
     "metadata": {},
     "output_type": "execute_result"
    }
   ],
   "source": [
    "# 빈도지수\n",
    "v = (78 * 198) / math.pow(len(df), 2)\n",
    "v"
   ]
  },
  {
   "cell_type": "markdown",
   "id": "02bf200a-3a03-475b-abcf-8132ecd0add2",
   "metadata": {},
   "source": [
    "## 10. 도로형태와 속도의 기초 통계(사고위험도 지수, 빈도지수)"
   ]
  },
  {
   "cell_type": "code",
   "execution_count": 48,
   "id": "30c862e3-285a-4be1-93a8-4e861c3781eb",
   "metadata": {},
   "outputs": [
    {
     "data": {
      "text/plain": [
       "226"
      ]
     },
     "execution_count": 48,
     "metadata": {},
     "output_type": "execute_result"
    }
   ],
   "source": [
    "df_도로형태 = df[(df['도로형태'] == 3)][['도로형태', 'id']]\n",
    "len(df_도로형태) # 전체 중 평균온도"
   ]
  },
  {
   "cell_type": "code",
   "execution_count": 49,
   "id": "8d51d171-ec10-4613-926c-a385df186fe8",
   "metadata": {},
   "outputs": [
    {
     "data": {
      "text/plain": [
       "124"
      ]
     },
     "execution_count": 49,
     "metadata": {},
     "output_type": "execute_result"
    }
   ],
   "source": [
    "pd.merge(df_도로형태, df_속도, how = 'inner', on = 'id')\n",
    "len(pd.merge(df_도로형태, df_속도, how = 'inner', on = 'id')) #교집합"
   ]
  },
  {
   "cell_type": "code",
   "execution_count": 50,
   "id": "2d8c34d7-184d-4e67-a7b0-56903e3bca21",
   "metadata": {},
   "outputs": [
    {
     "data": {
      "text/plain": [
       "295"
      ]
     },
     "execution_count": 50,
     "metadata": {},
     "output_type": "execute_result"
    }
   ],
   "source": [
    "pd.merge(df_도로형태, df_속도, how = 'outer', on = 'id')\n",
    "len(pd.merge(df_도로형태, df_속도, how = 'outer', on = 'id')) #교집합"
   ]
  },
  {
   "cell_type": "code",
   "execution_count": 51,
   "id": "358f00e6-9594-4150-b973-b381e92686da",
   "metadata": {},
   "outputs": [
    {
     "data": {
      "text/plain": [
       "42.03389830508474"
      ]
     },
     "execution_count": 51,
     "metadata": {},
     "output_type": "execute_result"
    }
   ],
   "source": [
    "# 사고위험도 지수\n",
    "124 / 295 * 100"
   ]
  },
  {
   "cell_type": "code",
   "execution_count": 52,
   "id": "8d72702e-195e-44fb-ab6f-d9fd5ffb066f",
   "metadata": {},
   "outputs": [
    {
     "data": {
      "text/plain": [
       "0.362248669119418"
      ]
     },
     "execution_count": 52,
     "metadata": {},
     "output_type": "execute_result"
    }
   ],
   "source": [
    "# 빈도지수\n",
    "v = (226 * 193) / math.pow(len(df), 2)\n",
    "v"
   ]
  },
  {
   "cell_type": "code",
   "execution_count": 53,
   "id": "96ef4dfb-a032-4706-b825-f8411efa05b3",
   "metadata": {},
   "outputs": [],
   "source": [
    "## 101. 고원식적용여부와 속도의 기초 통계(사고위험도 지수, 빈도지수)"
   ]
  },
  {
   "cell_type": "code",
   "execution_count": 54,
   "id": "c7ce4ac0-61d4-49de-82a2-a2d47e5f969d",
   "metadata": {},
   "outputs": [
    {
     "data": {
      "text/plain": [
       "345"
      ]
     },
     "execution_count": 54,
     "metadata": {},
     "output_type": "execute_result"
    }
   ],
   "source": [
    "df_고원식적용여부 = df[(df['고원식적용여부'] == 0)][['고원식적용여부', 'id']]\n",
    "len(df_고원식적용여부) # 전체 중 고원식적용여부(0)"
   ]
  },
  {
   "cell_type": "markdown",
   "id": "47d03fac-1bb4-4dfe-b3af-cfde8564ef2d",
   "metadata": {},
   "source": [
    "## 11. 횡단보도폭과 사고내용(중상)의 기초 통계(사고위험도 지수, 빈도지수)"
   ]
  },
  {
   "cell_type": "code",
   "execution_count": 55,
   "id": "dcbc1d43-d54c-4826-ba8f-835c5b62b9cf",
   "metadata": {},
   "outputs": [
    {
     "data": {
      "text/plain": [
       "93"
      ]
     },
     "execution_count": 55,
     "metadata": {},
     "output_type": "execute_result"
    }
   ],
   "source": [
    "pd.merge(df_횡단보도폭, df_사고내용, how = 'inner', on = 'id')\n",
    "len(pd.merge(df_횡단보도폭, df_사고내용, how = 'inner', on = 'id')) #교집합"
   ]
  },
  {
   "cell_type": "code",
   "execution_count": 56,
   "id": "a2a677d1-bc62-45d4-886f-b12cacb2c3dd",
   "metadata": {},
   "outputs": [
    {
     "data": {
      "text/plain": [
       "271"
      ]
     },
     "execution_count": 56,
     "metadata": {},
     "output_type": "execute_result"
    }
   ],
   "source": [
    "pd.merge(df_횡단보도폭, df_사고내용, how = 'outer', on = 'id')\n",
    "len(pd.merge(df_횡단보도폭, df_사고내용, how = 'outer', on = 'id')) #교집합"
   ]
  },
  {
   "cell_type": "code",
   "execution_count": 57,
   "id": "3a1f5b3f-5c1e-41ef-9aae-a8ed16063a42",
   "metadata": {},
   "outputs": [
    {
     "data": {
      "text/plain": [
       "34.31734317343174"
      ]
     },
     "execution_count": 57,
     "metadata": {},
     "output_type": "execute_result"
    }
   ],
   "source": [
    "# 사고위험도 지수\n",
    "93 / 271 * 100"
   ]
  },
  {
   "cell_type": "code",
   "execution_count": 58,
   "id": "18577e72-d28a-4e43-b044-38c6a203835d",
   "metadata": {},
   "outputs": [
    {
     "data": {
      "text/plain": [
       "0.2729696285161408"
      ]
     },
     "execution_count": 58,
     "metadata": {},
     "output_type": "execute_result"
    }
   ],
   "source": [
    "# 빈도지수\n",
    "v = (166 * 198) / math.pow(len(df), 2)\n",
    "v"
   ]
  },
  {
   "cell_type": "markdown",
   "id": "27dfaae6-4217-4cac-9108-50dd873dc56b",
   "metadata": {},
   "source": [
    "## 12. 속도와 녹색신호시간의 기초 통계(사고위험도 지수, 빈도지수)"
   ]
  },
  {
   "cell_type": "code",
   "execution_count": 60,
   "id": "64a199ff-51ef-43bb-99fa-5c6617cc6a50",
   "metadata": {},
   "outputs": [
    {
     "data": {
      "text/plain": [
       "76"
      ]
     },
     "execution_count": 60,
     "metadata": {},
     "output_type": "execute_result"
    }
   ],
   "source": [
    "pd.merge(df_속도, df_녹색신호시간, how = 'inner', on = 'id')\n",
    "len(pd.merge(df_속도, df_녹색신호시간, how = 'inner', on = 'id')) #교집합"
   ]
  },
  {
   "cell_type": "code",
   "execution_count": 59,
   "id": "814d0656-ddc5-4ffe-801a-d3ac3bb8dc4f",
   "metadata": {},
   "outputs": [
    {
     "data": {
      "text/plain": [
       "221"
      ]
     },
     "execution_count": 59,
     "metadata": {},
     "output_type": "execute_result"
    }
   ],
   "source": [
    "pd.merge(df_속도, df_녹색신호시간, how = 'outer', on = 'id')\n",
    "len(pd.merge(df_속도, df_녹색신호시간, how = 'outer', on = 'id')) #교집합"
   ]
  },
  {
   "cell_type": "code",
   "execution_count": 65,
   "id": "0400c5e3-7b87-4d48-a9b5-8cc93e0f2a9c",
   "metadata": {},
   "outputs": [
    {
     "data": {
      "text/plain": [
       "34.38914027149321"
      ]
     },
     "execution_count": 65,
     "metadata": {},
     "output_type": "execute_result"
    }
   ],
   "source": [
    "# 사고위험도 지수\n",
    "76 / 221 * 100"
   ]
  },
  {
   "cell_type": "code",
   "execution_count": 64,
   "id": "15a1a9f9-e5e4-4d28-8ede-849e998df307",
   "metadata": {},
   "outputs": [
    {
     "data": {
      "text/plain": [
       "0.16669850260362598"
      ]
     },
     "execution_count": 64,
     "metadata": {},
     "output_type": "execute_result"
    }
   ],
   "source": [
    "# 빈도지수\n",
    "v = (193 * 104) / math.pow(len(df), 2)\n",
    "v"
   ]
  },
  {
   "cell_type": "code",
   "execution_count": null,
   "id": "f79ba6eb-1615-4723-9e51-6029572d71cd",
   "metadata": {},
   "outputs": [],
   "source": []
  }
 ],
 "metadata": {
  "kernelspec": {
   "display_name": "Python 3",
   "language": "python",
   "name": "python3"
  },
  "language_info": {
   "codemirror_mode": {
    "name": "ipython",
    "version": 3
   },
   "file_extension": ".py",
   "mimetype": "text/x-python",
   "name": "python",
   "nbconvert_exporter": "python",
   "pygments_lexer": "ipython3",
   "version": "3.8.8"
  }
 },
 "nbformat": 4,
 "nbformat_minor": 5
}
