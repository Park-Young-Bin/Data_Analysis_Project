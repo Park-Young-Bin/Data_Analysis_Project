{
 "cells": [
  {
   "cell_type": "markdown",
   "id": "036f6229-8340-46bb-ba96-8861ce643545",
   "metadata": {},
   "source": [
    "## 7개 지역 보행 노인 사고 위치 지도 시각화"
   ]
  },
  {
   "cell_type": "code",
   "execution_count": 1,
   "id": "ecb27e6b-12aa-4483-907e-46150cb9c0a2",
   "metadata": {
    "tags": []
   },
   "outputs": [],
   "source": [
    "import folium\n",
    "from folium.plugins import MarkerCluster\n",
    "import pandas as pd\n",
    "m = folium.Map(location=[37.511877, 127.059505])"
   ]
  },
  {
   "cell_type": "code",
   "execution_count": 2,
   "id": "2a53659c-4538-42be-9e3b-333277fed27f",
   "metadata": {
    "tags": []
   },
   "outputs": [],
   "source": [
    "df = pd.read_excel('C:/Users/user/Desktop/project_data/7개 지역 피해자 유형 위경도.xlsx')\n",
    "df = df[[\"위도\", \"경도\", \"피해운전자_상해정도\"]]\n",
    "df\n",
    "\n",
    "df_4 = df[df['피해운전자_상해정도']==\"사망\"]\n",
    "df_3 = df[df['피해운전자_상해정도']==\"중상\"]\n",
    "df_2 = df[df['피해운전자_상해정도']==\"경상\"]\n",
    "df_1 = df[df['피해운전자_상해정도']==\"부상신고\"]\n"
   ]
  },
  {
   "cell_type": "code",
   "execution_count": 3,
   "id": "831de059-96a9-4d60-88b7-f4341c1d1b2d",
   "metadata": {},
   "outputs": [],
   "source": [
    "get_store_name_loc = df_4.loc[:,['위도','경도']]\n",
    "lat =list(get_store_name_loc['위도']) \n",
    "lng =list(get_store_name_loc['경도'])\n",
    "marker_cluster = MarkerCluster().add_to(m)\n",
    "\n",
    "for i in range(len(lat)):\n",
    "    folium.Marker(\n",
    "    location = [lat[i],lng[i]],\n",
    "    icon=folium.Icon(color='red',icon='ok'),\n",
    "    popup = [lat[i], lng[i]]\n",
    "    ).add_to(marker_cluster)"
   ]
  },
  {
   "cell_type": "code",
   "execution_count": 4,
   "id": "2225151c",
   "metadata": {},
   "outputs": [],
   "source": [
    "get_store_name_loc = df_3.loc[:,['위도','경도']]\n",
    "lat =list(get_store_name_loc['위도']) \n",
    "lng =list(get_store_name_loc['경도'])\n",
    "marker_cluster = MarkerCluster().add_to(m)\n",
    "\n",
    "for i in range(len(lat)):\n",
    "    folium.Marker(\n",
    "    location = [lat[i],lng[i]],\n",
    "    icon=folium.Icon(color='orange',icon='ok'),\n",
    "    popup = [lat[i], lng[i]]\n",
    "    ).add_to(marker_cluster)"
   ]
  },
  {
   "cell_type": "code",
   "execution_count": 5,
   "id": "69259071",
   "metadata": {},
   "outputs": [],
   "source": [
    "get_store_name_loc = df_2.loc[:,['위도','경도']]\n",
    "lat =list(get_store_name_loc['위도']) \n",
    "lng =list(get_store_name_loc['경도'])\n",
    "marker_cluster = MarkerCluster().add_to(m)\n",
    "\n",
    "for i in range(len(lat)):\n",
    "    folium.Marker(\n",
    "    location = [lat[i],lng[i]],\n",
    "    icon=folium.Icon(color='green',icon='ok'),\n",
    "    popup = [lat[i], lng[i]]\n",
    "    ).add_to(marker_cluster)"
   ]
  },
  {
   "cell_type": "code",
   "execution_count": 6,
   "id": "57663243",
   "metadata": {},
   "outputs": [],
   "source": [
    "get_store_name_loc = df_1.loc[:,['위도','경도']]\n",
    "lat =list(get_store_name_loc['위도']) \n",
    "lng =list(get_store_name_loc['경도'])\n",
    "marker_cluster = MarkerCluster().add_to(m)\n",
    "\n",
    "for i in range(len(lat)):\n",
    "    folium.Marker(\n",
    "    location = [lat[i],lng[i]],\n",
    "    icon=folium.Icon(color='green',icon='ok'),\n",
    "    popup = [lat[i], lng[i]]\n",
    "    ).add_to(marker_cluster)"
   ]
  },
  {
   "cell_type": "markdown",
   "id": "d3b2df20-57ee-44cc-b537-82f1bc442814",
   "metadata": {},
   "source": [
    "## 7개 지역 보행 노인 사고 평균 위치 지도 시각화(with 반경)"
   ]
  },
  {
   "cell_type": "code",
   "execution_count": 95,
   "id": "a10c716a-0fe4-496f-9e5d-48c9fc565ead",
   "metadata": {
    "tags": []
   },
   "outputs": [],
   "source": [
    "# for i in range(len(lat)): \n",
    "#     folium.CircleMarker(\n",
    "#     location = [lat[i],lng[i]],\n",
    "#     radius=500,\n",
    "#     color='#ffffgg',\n",
    "#     fill_color='#fffggg'\n",
    "#     ).add_to(marker_cluster)\n",
    "\n",
    "# m.save('C:/Users/user/Desktop/project_data/map2.html')"
   ]
  },
  {
   "cell_type": "code",
   "execution_count": 7,
   "id": "bdd90841-8ed5-42a1-8e9f-754eeb2418bc",
   "metadata": {},
   "outputs": [],
   "source": [
    "df = pd.read_excel('C:/Users/user/Desktop/project_data/단계별_여수.xlsx')\n",
    "\n",
    "df_3 = df[df['단계']==3]\n",
    "df_2 = df[df['단계']==2]\n",
    "df_1 = df[df['단계']==1]"
   ]
  },
  {
   "cell_type": "code",
   "execution_count": 8,
   "id": "401a9bff-7a0e-4b8f-bccc-7c907dc39908",
   "metadata": {},
   "outputs": [],
   "source": [
    "get_store_name_loc = df_3.loc[:,['위도','경도']]\n",
    "lat =list(get_store_name_loc['위도']) \n",
    "lng =list(get_store_name_loc['경도'])\n",
    "marker_cluster = MarkerCluster().add_to(m)\n",
    "\n",
    "# 빨간색 하나라도 포함하고 있는 위경도\n",
    "for i in range(len(lat)): \n",
    "    folium.CircleMarker(\n",
    "    location = [lat[i],lng[i]],\n",
    "    radius=100,\n",
    "    color='#ff0000',\n",
    "    fill_color='#ff0000'\n",
    "    ).add_to(marker_cluster)\n",
    "\n",
    "get_store_name_loc = df_2.loc[:,['위도','경도']]\n",
    "lat =list(get_store_name_loc['위도']) \n",
    "lng =list(get_store_name_loc['경도'])\n",
    "marker_cluster = MarkerCluster().add_to(m)\n",
    "\n",
    "# 노랑색 포함하고 있는 핀들 사이에 위경도 2개 이상\n",
    "for i in range(len(lat)): \n",
    "    folium.CircleMarker(\n",
    "    location = [lat[i],lng[i]],\n",
    "    radius=100,\n",
    "    color='#ffd700',\n",
    "    fill_color='#ffd700'\n",
    "    ).add_to(marker_cluster)\n",
    "\n",
    "get_store_name_loc = df_1.loc[:,['위도','경도']]\n",
    "lat =list(get_store_name_loc['위도']) \n",
    "lng =list(get_store_name_loc['경도'])\n",
    "marker_cluster = MarkerCluster().add_to(m)\n",
    "\n",
    "# 초록색 포함하고 있는 핀들 사이에 한 개 위경도 두 개 이상\n",
    "for i in range(len(lat)): \n",
    "    folium.CircleMarker(\n",
    "    location = [lat[i],lng[i]],\n",
    "    radius=100,\n",
    "    color='#7fff00',\n",
    "    fill_color='#7fff00'\n",
    "    ).add_to(marker_cluster)"
   ]
  },
  {
   "cell_type": "code",
   "execution_count": 9,
   "id": "bb332b8a-f721-49d7-9c04-5381419cabd2",
   "metadata": {},
   "outputs": [],
   "source": [
    "m.save('C:/Users/user/Desktop/project_data/map.html')"
   ]
  },
  {
   "cell_type": "code",
   "execution_count": null,
   "id": "59414079-b8a6-4233-a6b2-a2828a6878cd",
   "metadata": {},
   "outputs": [],
   "source": []
  }
 ],
 "metadata": {
  "kernelspec": {
   "display_name": "Python 3",
   "language": "python",
   "name": "python3"
  },
  "language_info": {
   "codemirror_mode": {
    "name": "ipython",
    "version": 3
   },
   "file_extension": ".py",
   "mimetype": "text/x-python",
   "name": "python",
   "nbconvert_exporter": "python",
   "pygments_lexer": "ipython3",
   "version": "3.8.8"
  }
 },
 "nbformat": 4,
 "nbformat_minor": 5
}
