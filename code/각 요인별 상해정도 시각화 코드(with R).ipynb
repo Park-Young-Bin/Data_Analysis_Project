{
 "cells": [
  {
   "cell_type": "code",
   "execution_count": 1,
   "id": "98752cc3-7dc0-4385-ad07-eb8f33476b32",
   "metadata": {},
   "outputs": [],
   "source": [
    "import pandas as pd\n",
    "import numpy as np\n",
    "import matplotlib.pyplot as plt\n",
    "import matplotlib as mpl\n",
    "import seaborn as sns\n",
    "\n",
    "mpl.rc('font', family = 'Malgun Gothic')\n",
    "plt.rcParams['axes.unicode_minus'] = False"
   ]
  },
  {
   "cell_type": "code",
   "execution_count": 52,
   "id": "cdac4e74-cda2-45a2-a32f-c5eaa0960e89",
   "metadata": {},
   "outputs": [],
   "source": [
    "df = pd.read_excel('C:/Users/user/Desktop/project_data/전처리_9개횡단보도_신호등.xlsx')"
   ]
  },
  {
   "cell_type": "markdown",
   "id": "4fbf695b-ea31-43dc-bb3e-f4b77068d8ad",
   "metadata": {},
   "source": [
    "### 1. 시간대별 피해자 상해정도 전처리"
   ]
  },
  {
   "cell_type": "code",
   "execution_count": 53,
   "id": "ef62653b-f416-4bf2-8044-ca8cd36c68db",
   "metadata": {
    "tags": []
   },
   "outputs": [],
   "source": [
    "list_hour = df['사고일시'].tolist()\n",
    "list_hour\n",
    "\n",
    "hour = []\n",
    "\n",
    "for i in range(len(list_hour)):\n",
    "    hour.append(list_hour[i][-3:-1])\n",
    "    \n",
    "hour = list(map(int, hour))"
   ]
  },
  {
   "cell_type": "code",
   "execution_count": 54,
   "id": "9d713624-2b59-4778-9661-08b9ed3345ce",
   "metadata": {
    "tags": []
   },
   "outputs": [],
   "source": [
    "df['시간'] = hour"
   ]
  },
  {
   "cell_type": "code",
   "execution_count": 55,
   "id": "68495eb5-05dd-4e74-a711-0a3b42132210",
   "metadata": {
    "tags": []
   },
   "outputs": [],
   "source": [
    "list_hour = df['시간'].tolist()\n",
    "hour_cate = []\n",
    "\n",
    "for i in range(len(list_hour)):\n",
    "    if list_hour[i] >= 0 and list_hour[i] <= 2:\n",
    "        hour_cate.append('0~2시')\n",
    "    elif list_hour[i] >= 3 and list_hour[i] <= 5:\n",
    "        hour_cate.append('3~5시')\n",
    "    elif list_hour[i] >= 6 and list_hour[i] <= 8:\n",
    "        hour_cate.append('6~8시')\n",
    "    elif list_hour[i] >= 9 and list_hour[i] <= 11:\n",
    "        hour_cate.append('9~11시')\n",
    "    elif list_hour[i] >= 12 and list_hour[i] <= 14:\n",
    "        hour_cate.append('12~14시')\n",
    "    elif list_hour[i] >= 15 and list_hour[i] <= 17:\n",
    "        hour_cate.append('15~17시')\n",
    "    elif list_hour[i] >= 18 and list_hour[i] <= 20:\n",
    "        hour_cate.append('18~20시')\n",
    "    else:\n",
    "        hour_cate.append('21~23시')"
   ]
  },
  {
   "cell_type": "code",
   "execution_count": 38,
   "id": "a4fd393a-b8d4-4790-8a27-9796a554edb1",
   "metadata": {
    "collapsed": true,
    "jupyter": {
     "outputs_hidden": true
    },
    "tags": []
   },
   "outputs": [
    {
     "data": {
      "text/plain": [
       "Index(['사고일시', '요일', '시군구', '사고내용', '노면상태', '기상상태', '도로형태', '피해운전자.연령',\n",
       "       '피해운전자.상해정도', '시도명', '시군구명', '도로명', '소재지지번주소', '자전거횡단도겸용여부', '고원식적용여부',\n",
       "       '위도', '경도', '차로수', '횡단보도폭', '횡단보도연장', '보행자신호등유무', '보행자작동신호기유무',\n",
       "       '음향신호기설치여부', '녹색신호시간', '적색신호시간', '교통섬유무', '보도턱낮춤여부', '점자블록유무',\n",
       "       '집중조명시설유무', '속도', '평균온도', '시간', '시간범주', '기온범주'],\n",
       "      dtype='object')"
      ]
     },
     "execution_count": 38,
     "metadata": {},
     "output_type": "execute_result"
    }
   ],
   "source": [
    "df.columns"
   ]
  },
  {
   "cell_type": "code",
   "execution_count": 9,
   "id": "494cda05-d30e-43c1-ac43-586d7f3b16d1",
   "metadata": {},
   "outputs": [],
   "source": [
    "# df.to_excel('C:/Users/user/Desktop/project_data/time_preprocess.xlsx')"
   ]
  },
  {
   "cell_type": "markdown",
   "id": "b39408c2-8ec3-4ae0-b762-9471ac93dbc4",
   "metadata": {},
   "source": [
    "### 2. 평균기온별 피해자 상해 전처리"
   ]
  },
  {
   "cell_type": "code",
   "execution_count": 274,
   "id": "220a25a5-7c7a-4c6c-909b-080c301a7555",
   "metadata": {
    "collapsed": true,
    "jupyter": {
     "outputs_hidden": true
    },
    "tags": []
   },
   "outputs": [
    {
     "data": {
      "text/plain": [
       "count    347.000000\n",
       "mean      15.230836\n",
       "std        9.356655\n",
       "min      -13.600000\n",
       "25%        8.300000\n",
       "50%       16.100000\n",
       "75%       22.500000\n",
       "max       39.000000\n",
       "Name: 평균온도, dtype: float64"
      ]
     },
     "execution_count": 274,
     "metadata": {},
     "output_type": "execute_result"
    }
   ],
   "source": [
    "df['평균온도'].describe()"
   ]
  },
  {
   "cell_type": "code",
   "execution_count": 275,
   "id": "a9b11852-c810-40ec-a5a3-0e6662eb61cd",
   "metadata": {
    "tags": []
   },
   "outputs": [
    {
     "data": {
      "text/plain": [
       "array([-13.6       ,  -7.75555556,  -1.91111111,   3.93333333,\n",
       "         9.77777778,  15.62222222,  21.46666667,  27.31111111,\n",
       "        33.15555556,  39.        ])"
      ]
     },
     "execution_count": 275,
     "metadata": {},
     "output_type": "execute_result"
    }
   ],
   "source": [
    "bins = np.linspace(df.평균온도.min(), df.평균온도.max(), 10) # 연속형 변수 범주화\n",
    "bins"
   ]
  },
  {
   "cell_type": "code",
   "execution_count": 20,
   "id": "121e3ce5-aeb8-4d63-bd18-545645d6a3b7",
   "metadata": {
    "tags": []
   },
   "outputs": [],
   "source": [
    "list_temp = df['평균온도'].tolist()\n",
    "temp_cate = []\n",
    "\n",
    "for i in range(len(list_temp)):\n",
    "    if list_temp[i] >= -13.7 and list_temp[i] <= -7.75:\n",
    "        temp_cate.append('-13.7 ~ -7.75°C')\n",
    "    elif list_temp[i] > -7.75 and list_temp[i] <= -1.91:\n",
    "        temp_cate.append('-7.75 ~ -1.91°C')\n",
    "    elif list_temp[i] > -1.91 and list_temp[i] <= 3.93:\n",
    "        temp_cate.append('-1.91 ~ 3.93°C')\n",
    "    elif list_temp[i] > 3.93 and list_temp[i] <= 9.77:\n",
    "        temp_cate.append('3.93 ~ 9.77°C')\n",
    "    elif list_temp[i] > 9.77 and list_temp[i] <= 15.62:\n",
    "        temp_cate.append('9.77 ~ 15.62°C')\n",
    "    elif list_temp[i] > 15.62 and list_temp[i] <= 21.46:\n",
    "        temp_cate.append('15.62 ~ 21.46°C')\n",
    "    elif list_temp[i] > 21.46 and list_temp[i] <= 27.31:\n",
    "        temp_cate.append('21.46 ~ 27.31°C')\n",
    "    elif list_temp[i] > 27.31 and list_temp[i] <= 33.15:\n",
    "        temp_cate.append('27.31 ~ 33.15°C')\n",
    "    else:\n",
    "        temp_cate.append('33.15 ~ 39°C')\n",
    "\n",
    "df['기온범주'] = temp_cate"
   ]
  },
  {
   "cell_type": "code",
   "execution_count": 28,
   "id": "88dd9c73-3107-4e72-bbca-4599a350e010",
   "metadata": {},
   "outputs": [],
   "source": [
    "# df.to_excel('C:/Users/user/Desktop/project_data/temp_preprocess.xlsx')"
   ]
  },
  {
   "cell_type": "markdown",
   "id": "6914ae12-bd0e-4d6c-b2b8-67513b4090c0",
   "metadata": {},
   "source": [
    "### 3. 속도별 피해자 상해정도 전처리"
   ]
  },
  {
   "cell_type": "code",
   "execution_count": 58,
   "id": "4df82206-2e85-4edc-b0e4-e4b687379ec3",
   "metadata": {
    "collapsed": true,
    "jupyter": {
     "outputs_hidden": true
    },
    "tags": []
   },
   "outputs": [
    {
     "data": {
      "text/plain": [
       "count    347.000000\n",
       "mean       0.977291\n",
       "std        0.174951\n",
       "min        0.650000\n",
       "25%        0.900000\n",
       "50%        1.014286\n",
       "75%        1.072078\n",
       "max        1.600000\n",
       "Name: 속도, dtype: float64"
      ]
     },
     "execution_count": 58,
     "metadata": {},
     "output_type": "execute_result"
    }
   ],
   "source": [
    "df['속도'].describe()"
   ]
  },
  {
   "cell_type": "code",
   "execution_count": 59,
   "id": "8c26fe54-f081-4ceb-af81-e297806df4d1",
   "metadata": {
    "tags": []
   },
   "outputs": [
    {
     "data": {
      "text/plain": [
       "array([0.65      , 0.75555556, 0.86111111, 0.96666667, 1.07222222,\n",
       "       1.17777778, 1.28333333, 1.38888889, 1.49444444, 1.6       ])"
      ]
     },
     "execution_count": 59,
     "metadata": {},
     "output_type": "execute_result"
    }
   ],
   "source": [
    "bins = np.linspace(df.속도.min(), df.속도.max(), 10) # 연속형 변수 범주화\n",
    "bins"
   ]
  },
  {
   "cell_type": "code",
   "execution_count": 76,
   "id": "f44bec75-0486-467b-9cd7-2db09b91184d",
   "metadata": {
    "tags": []
   },
   "outputs": [
    {
     "data": {
      "text/plain": [
       "(0.935, 1.03]     108\n",
       "(1.03, 1.125]      96\n",
       "(0.649, 0.745]     57\n",
       "(0.84, 0.935]      26\n",
       "(1.125, 1.22]      22\n",
       "(0.745, 0.84]      19\n",
       "(1.22, 1.315]      11\n",
       "(1.41, 1.505]       4\n",
       "(1.315, 1.41]       2\n",
       "(1.505, 1.6]        2\n",
       "Name: 속도범주, dtype: int64"
      ]
     },
     "execution_count": 76,
     "metadata": {},
     "output_type": "execute_result"
    }
   ],
   "source": [
    "df['속도범주'] = pd.cut(df.속도, 10)\n",
    "df['속도범주'].value_counts()"
   ]
  },
  {
   "cell_type": "code",
   "execution_count": 68,
   "id": "c8ffd230-d985-4eb3-97fa-ee58f5dcd135",
   "metadata": {},
   "outputs": [],
   "source": [
    "# df.to_excel('C:/Users/user/Desktop/project_data/speed_preprocess.xlsx')"
   ]
  }
 ],
 "metadata": {
  "kernelspec": {
   "display_name": "Python 3",
   "language": "python",
   "name": "python3"
  },
  "language_info": {
   "codemirror_mode": {
    "name": "ipython",
    "version": 3
   },
   "file_extension": ".py",
   "mimetype": "text/x-python",
   "name": "python",
   "nbconvert_exporter": "python",
   "pygments_lexer": "ipython3",
   "version": "3.8.8"
  }
 },
 "nbformat": 4,
 "nbformat_minor": 5
}
