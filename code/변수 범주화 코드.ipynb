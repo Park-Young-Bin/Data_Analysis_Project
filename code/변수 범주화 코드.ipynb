{
 "cells": [
  {
   "cell_type": "markdown",
   "id": "a31e1eaa-6846-4f8b-9698-c28e370c331a",
   "metadata": {},
   "source": [
    "## 변수 범주화 코드"
   ]
  },
  {
   "cell_type": "code",
   "execution_count": 6,
   "id": "97daea7d-85cc-4f4c-95e5-3c7055d48f7d",
   "metadata": {},
   "outputs": [],
   "source": [
    "import pandas as pd\n",
    "import numpy as np"
   ]
  },
  {
   "cell_type": "code",
   "execution_count": 3,
   "id": "b41dbfe8-3f49-47eb-9f06-536ce7fab83f",
   "metadata": {},
   "outputs": [
    {
     "data": {
      "text/html": [
       "<div>\n",
       "<style scoped>\n",
       "    .dataframe tbody tr th:only-of-type {\n",
       "        vertical-align: middle;\n",
       "    }\n",
       "\n",
       "    .dataframe tbody tr th {\n",
       "        vertical-align: top;\n",
       "    }\n",
       "\n",
       "    .dataframe thead th {\n",
       "        text-align: right;\n",
       "    }\n",
       "</style>\n",
       "<table border=\"1\" class=\"dataframe\">\n",
       "  <thead>\n",
       "    <tr style=\"text-align: right;\">\n",
       "      <th></th>\n",
       "      <th>시간</th>\n",
       "      <th>일</th>\n",
       "      <th>월</th>\n",
       "      <th>사고일시</th>\n",
       "      <th>요일</th>\n",
       "      <th>시군구</th>\n",
       "      <th>사고내용</th>\n",
       "      <th>노면상태</th>\n",
       "      <th>기상상태</th>\n",
       "      <th>도로형태</th>\n",
       "      <th>...</th>\n",
       "      <th>음향신호기설치여부</th>\n",
       "      <th>녹색신호시간</th>\n",
       "      <th>적색신호시간</th>\n",
       "      <th>교통섬유무</th>\n",
       "      <th>보도턱낮춤여부</th>\n",
       "      <th>점자블록유무</th>\n",
       "      <th>집중조명시설유무</th>\n",
       "      <th>속도</th>\n",
       "      <th>평균온도</th>\n",
       "      <th>id</th>\n",
       "    </tr>\n",
       "  </thead>\n",
       "  <tbody>\n",
       "    <tr>\n",
       "      <th>0</th>\n",
       "      <td>5</td>\n",
       "      <td>1</td>\n",
       "      <td>7</td>\n",
       "      <td>2018년 7월 1일 05시</td>\n",
       "      <td>0</td>\n",
       "      <td>경상남도 남해군 서면</td>\n",
       "      <td>3</td>\n",
       "      <td>1</td>\n",
       "      <td>2</td>\n",
       "      <td>2</td>\n",
       "      <td>...</td>\n",
       "      <td>1</td>\n",
       "      <td>20</td>\n",
       "      <td>140.0</td>\n",
       "      <td>0</td>\n",
       "      <td>1</td>\n",
       "      <td>0</td>\n",
       "      <td>0</td>\n",
       "      <td>0.67</td>\n",
       "      <td>13.2</td>\n",
       "      <td>1</td>\n",
       "    </tr>\n",
       "    <tr>\n",
       "      <th>1</th>\n",
       "      <td>11</td>\n",
       "      <td>12</td>\n",
       "      <td>1</td>\n",
       "      <td>2018년 11월 12일 11시</td>\n",
       "      <td>1</td>\n",
       "      <td>경상남도 남해군 남해읍</td>\n",
       "      <td>3</td>\n",
       "      <td>1</td>\n",
       "      <td>1</td>\n",
       "      <td>2</td>\n",
       "      <td>...</td>\n",
       "      <td>1</td>\n",
       "      <td>25</td>\n",
       "      <td>165.0</td>\n",
       "      <td>0</td>\n",
       "      <td>1</td>\n",
       "      <td>0</td>\n",
       "      <td>0</td>\n",
       "      <td>0.66</td>\n",
       "      <td>13.4</td>\n",
       "      <td>2</td>\n",
       "    </tr>\n",
       "  </tbody>\n",
       "</table>\n",
       "<p>2 rows × 35 columns</p>\n",
       "</div>"
      ],
      "text/plain": [
       "   시간   일  월               사고일시  요일           시군구  사고내용  노면상태 기상상태  도로형태  ...  \\\n",
       "0   5   1  7    2018년 7월 1일 05시   0   경상남도 남해군 서면     3     1    2     2  ...   \n",
       "1  11  12  1  2018년 11월 12일 11시   1  경상남도 남해군 남해읍     3     1    1     2  ...   \n",
       "\n",
       "  음향신호기설치여부 녹색신호시간 적색신호시간 교통섬유무 보도턱낮춤여부 점자블록유무  집중조명시설유무    속도  평균온도  id  \n",
       "0         1     20  140.0     0       1      0         0  0.67  13.2   1  \n",
       "1         1     25  165.0     0       1      0         0  0.66  13.4   2  \n",
       "\n",
       "[2 rows x 35 columns]"
      ]
     },
     "execution_count": 3,
     "metadata": {},
     "output_type": "execute_result"
    }
   ],
   "source": [
    "df = pd.read_excel('C:/Users/user/Desktop/project_data/전처리_9개횡단보도_신호등(숫자형).xlsx')\n",
    "df.head(2)"
   ]
  },
  {
   "cell_type": "code",
   "execution_count": 7,
   "id": "9cee3d61-dc94-4253-8889-00a921346d19",
   "metadata": {},
   "outputs": [
    {
     "data": {
      "text/plain": [
       "array([-13.6       ,  -7.75555556,  -1.91111111,   3.93333333,\n",
       "         9.77777778,  15.62222222,  21.46666667,  27.31111111,\n",
       "        33.15555556,  39.        ])"
      ]
     },
     "execution_count": 7,
     "metadata": {},
     "output_type": "execute_result"
    }
   ],
   "source": [
    "bins = np.linspace(df.평균온도.min(), df.평균온도.max(), 100) # 연속형 변수 범주화\n",
    "bins"
   ]
  },
  {
   "cell_type": "markdown",
   "id": "ebe7dce6-808c-498f-8efd-3a5905081a30",
   "metadata": {},
   "source": [
    "### 온도 범주화"
   ]
  },
  {
   "cell_type": "code",
   "execution_count": 8,
   "id": "90b144bf-623d-4a1a-a351-56b4e1b90e8f",
   "metadata": {},
   "outputs": [],
   "source": [
    "list_temp = df['평균온도'].tolist()\n",
    "temp_cate = []\n",
    "\n",
    "for i in range(len(list_temp)):\n",
    "    if list_temp[i] >= -13.7 and list_temp[i] <= -7.75:\n",
    "        temp_cate.append('-13.7 ~ -7.75°C')\n",
    "    elif list_temp[i] > -7.75 and list_temp[i] <= -1.91:\n",
    "        temp_cate.append('-7.75 ~ -1.91°C')\n",
    "    elif list_temp[i] > -1.91 and list_temp[i] <= 3.93:\n",
    "        temp_cate.append('-1.91 ~ 3.93°C')\n",
    "    elif list_temp[i] > 3.93 and list_temp[i] <= 9.77:\n",
    "        temp_cate.append('3.93 ~ 9.77°C')\n",
    "    elif list_temp[i] > 9.77 and list_temp[i] <= 15.62:\n",
    "        temp_cate.append('9.77 ~ 15.62°C')\n",
    "    elif list_temp[i] > 15.62 and list_temp[i] <= 21.46:\n",
    "        temp_cate.append('15.62 ~ 21.46°C')\n",
    "    elif list_temp[i] > 21.46 and list_temp[i] <= 27.31:\n",
    "        temp_cate.append('21.46 ~ 27.31°C')\n",
    "    elif list_temp[i] > 27.31 and list_temp[i] <= 33.15:\n",
    "        temp_cate.append('27.31 ~ 33.15°C')\n",
    "    else:\n",
    "        temp_cate.append('33.15 ~ 39°C')\n",
    "\n",
    "df['기온범주'] = temp_cate"
   ]
  },
  {
   "cell_type": "markdown",
   "id": "f421f45e-d9c5-4e73-81d8-ec5a923cd2ed",
   "metadata": {},
   "source": [
    "### 시간 범주화"
   ]
  },
  {
   "cell_type": "code",
   "execution_count": 10,
   "id": "1c691d0f-9115-4444-a978-a4fdbd55e676",
   "metadata": {},
   "outputs": [],
   "source": [
    "list_temp = df['시간'].tolist()\n",
    "temp_cate = []\n",
    "\n",
    "for i in range(len(list_temp)):\n",
    "    if list_temp[i] >= 0 and list_temp[i] <= 6:\n",
    "        temp_cate.append('새벽')\n",
    "    elif list_temp[i] > 6 and list_temp[i] <= 18:\n",
    "        temp_cate.append('오전')\n",
    "    elif list_temp[i] > 12 and list_temp[i] <= 24:\n",
    "        temp_cate.append('오후')\n",
    "\n",
    "df['시간범주'] = temp_cate"
   ]
  },
  {
   "cell_type": "markdown",
   "id": "6ca7e551-d481-4b05-a6bf-2f806ccbeec8",
   "metadata": {},
   "source": [
    "### 계절 범주화"
   ]
  },
  {
   "cell_type": "code",
   "execution_count": 12,
   "id": "5f8b413c-a100-498d-bc13-bd23e86ec526",
   "metadata": {},
   "outputs": [],
   "source": [
    "list_temp = df['월'].tolist()\n",
    "temp_cate = []\n",
    "\n",
    "for i in range(len(list_temp)):\n",
    "    if list_temp[i] >= 12 and list_temp[i] <= 2:\n",
    "        temp_cate.append('겨울')\n",
    "    elif list_temp[i] > 2 and list_temp[i] <= 5:\n",
    "        temp_cate.append('봄')\n",
    "    elif list_temptemp[i] > 5 and list_temp[i] <= 8:\n",
    "        temp_cate.append('여름')\n",
    "    else:\n",
    "        temp_cate.append('가을')\n",
    "\n",
    "df['계절'] = temp_cate"
   ]
  },
  {
   "cell_type": "markdown",
   "id": "c49e7954-045d-4bcf-878d-de23f8957896",
   "metadata": {},
   "source": [
    "### 속도 범주화"
   ]
  },
  {
   "cell_type": "code",
   "execution_count": 13,
   "id": "542b5314-01c4-4e96-a88d-0a5b1d20fe63",
   "metadata": {},
   "outputs": [],
   "source": [
    "list_temp = df['속도'].tolist()\n",
    "temp_cate = []\n",
    "\n",
    "for i in range(len(list_temp)):\n",
    "    if list_temp[i] <= 0.8:\n",
    "        temp_cate.append('~ 0.8')\n",
    "    elif list_temp[i] > 0.8 and list_temp[i] <= 1:\n",
    "        temp_cate.append('0.8 ~ 1')\n",
    "    elif list_temp[i] > 1 and list_temp[i] <= 1.2:\n",
    "        temp_cate.append('1 ~ 1.2')\n",
    "    else:\n",
    "        temp_cate.append('1.2 ~')\n",
    "\n",
    "df['속도범주'] = temp_cate"
   ]
  },
  {
   "cell_type": "markdown",
   "id": "a6d7f50d-9dab-4e45-9ff6-3e065685ba40",
   "metadata": {},
   "source": [
    "### 사고내용 범주화\n",
    "\n",
    "1, 2 >> No  \n",
    "3, 4 >> Yes"
   ]
  },
  {
   "cell_type": "markdown",
   "id": "42188723-9a70-4bb4-b141-7cda32eb5531",
   "metadata": {},
   "source": [
    "### 자전거횡단도겸용여부 범주화\n",
    "1 >> Yes  \n",
    "0 >> No"
   ]
  },
  {
   "cell_type": "markdown",
   "id": "e7dafe8e-aca5-4168-b725-ffa9c1a2f400",
   "metadata": {},
   "source": [
    "### 고원식적용여부 범주화\n",
    "1 >> Yes  \n",
    "0 >> No"
   ]
  },
  {
   "cell_type": "code",
   "execution_count": 23,
   "id": "dd45ad18-5e39-45e0-a6bf-91febe7a724e",
   "metadata": {},
   "outputs": [],
   "source": [
    "list_temp = df['집중조명시설유무'].tolist()\n",
    "temp_cate = []\n",
    "\n",
    "for i in range(len(list_temp)):\n",
    "    if list_temp[i] ==1:\n",
    "        temp_cate.append('YES')\n",
    "    else:\n",
    "        temp_cate.append('NO')\n",
    "\n",
    "df['집중조명시설유무_'] = temp_cate"
   ]
  },
  {
   "cell_type": "markdown",
   "id": "62266210-b34d-427e-aa47-5e2e98b4742e",
   "metadata": {},
   "source": [
    "### 보행자신호등유무 범주화\n",
    "1 >> Yes  \n",
    "0 >> No"
   ]
  },
  {
   "cell_type": "markdown",
   "id": "b8ffee73-dc5c-4afa-987a-04a910e7c73d",
   "metadata": {},
   "source": [
    "### 보행자작동신호기유무 범주화\n",
    "1 >> Yes  \n",
    "0 >> No"
   ]
  },
  {
   "cell_type": "markdown",
   "id": "47f511cd-5bb7-4fae-9f17-8a984885a7cf",
   "metadata": {},
   "source": [
    "### 음향신호기설치여부 범주화\n",
    "1 >> Yes  \n",
    "0 >> No"
   ]
  },
  {
   "cell_type": "markdown",
   "id": "6cf42b04-a184-4a3d-9d5f-9510a4481b2f",
   "metadata": {},
   "source": [
    "### 교통섬유무 범주화\n",
    "1 >> Yes  \n",
    "0 >> No"
   ]
  },
  {
   "cell_type": "markdown",
   "id": "33ee24c7-035f-4a96-b4e8-a9dd0dc0e648",
   "metadata": {},
   "source": [
    "### 보도턱낮춤여부 범주화\n",
    "1 >> Yes  \n",
    "0 >> No"
   ]
  },
  {
   "cell_type": "markdown",
   "id": "40898b93-6990-4c40-b600-81eab3226380",
   "metadata": {},
   "source": [
    "### 점자블록유무 범주화\n",
    "1 >> Yes  \n",
    "0 >> No"
   ]
  },
  {
   "cell_type": "markdown",
   "id": "8fe11701-a44e-4358-9394-5eb0503c6f94",
   "metadata": {},
   "source": [
    "### 집중조명시설유무 범주화\n",
    "1 >> Yes  \n",
    "0 >> No"
   ]
  },
  {
   "cell_type": "code",
   "execution_count": 25,
   "id": "fe632c74-c7e3-420e-9fb4-3eb175a620f9",
   "metadata": {},
   "outputs": [],
   "source": [
    "df.to_excel('C:/Users/user/Desktop/project_data/변수 범주화.xlsx')"
   ]
  }
 ],
 "metadata": {
  "kernelspec": {
   "display_name": "Python 3",
   "language": "python",
   "name": "python3"
  },
  "language_info": {
   "codemirror_mode": {
    "name": "ipython",
    "version": 3
   },
   "file_extension": ".py",
   "mimetype": "text/x-python",
   "name": "python",
   "nbconvert_exporter": "python",
   "pygments_lexer": "ipython3",
   "version": "3.8.8"
  }
 },
 "nbformat": 4,
 "nbformat_minor": 5
}
